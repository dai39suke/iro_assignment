{
 "cells": [
  {
   "cell_type": "markdown",
   "metadata": {},
   "source": [
    "# 演習課題その4（ランキング学習・検索結果多様化）\n",
    "\n",
    "\n",
    "## 必須課題（１）Ranking SVM\n",
    "\n",
    "サンプルファイルとは別のテストデータを用意し，サンプルファイルの訓練データで学習したモデルをそのテストデータに適用してみよ．\n",
    "また，訓練データを観察し，どのような特徴量をもった文書が上位にランク付けされそうか自分で推測し，テストデータに対するランキング結果がその自分の推測と近いかどうか考察せよ．"
   ]
  },
  {
   "cell_type": "markdown",
   "metadata": {},
   "source": [
    "## 訓練データ\n",
    "訓練データは以下の通りである．\n",
    "```\n",
    "3 qid:1 1:1 2:1 3:0 4:0.2 5:0 # 1A\n",
    "2 qid:1 1:0 2:0 3:1 4:0.1 5:1 # 1B \n",
    "1 qid:1 1:0 2:1 3:0 4:0.4 5:0 # 1C\n",
    "1 qid:1 1:0 2:0 3:1 4:0.3 5:0 # 1D  \n",
    "1 qid:2 1:0 2:0 3:1 4:0.2 5:0 # 2A  \n",
    "2 qid:2 1:1 2:0 3:1 4:0.4 5:0 # 2B \n",
    "1 qid:2 1:0 2:0 3:1 4:0.1 5:0 # 2C \n",
    "1 qid:2 1:0 2:0 3:1 4:0.2 5:0 # 2D  \n",
    "2 qid:3 1:0 2:0 3:1 4:0.1 5:1 # 3A \n",
    "3 qid:3 1:1 2:1 3:0 4:0.3 5:0 # 3B \n",
    "4 qid:3 1:1 2:0 3:0 4:0.4 5:1 # 3C \n",
    "1 qid:3 1:0 2:1 3:1 4:0.5 5:0 # 3D\n",
    "```"
   ]
  },
  {
   "cell_type": "markdown",
   "metadata": {},
   "source": [
    "## 訓練データの学習\n",
    "これらの訓練データに対し，svm_rank_learnを用いてモデルを生成する．"
   ]
  },
  {
   "cell_type": "code",
   "execution_count": 2,
   "metadata": {},
   "outputs": [
    {
     "name": "stdout",
     "output_type": "stream",
     "text": [
      "Reading training examples...done\r\n",
      "Training set properties: 5 features, 3 rankings, 12 examples\r\n",
      "NOTE: Adjusted stopping criterion relative to maximum loss: eps=0.004667\r\n",
      "Iter 1: ...*(NumConst=1, SV=1, CEps=4.6667, QPEps=0.0000)\r\n",
      "Iter 2: ...*(NumConst=2, SV=1, CEps=4.2166, QPEps=0.0000)\r\n",
      "Iter 3: ...(NumConst=2, SV=1, CEps=0.0000, QPEps=0.0000)\r\n",
      "Final epsilon on KKT-Conditions: 0.00000\r\n",
      "Upper bound on duality gap: -0.00000\r\n",
      "Dual objective value: dval=0.13325\r\n",
      "Primal objective value: pval=0.13325\r\n",
      "Total number of constraints in final working set: 2 (of 2)\r\n",
      "Number of iterations: 3\r\n",
      "Number of calls to 'find_most_violated_constraint': 9\r\n",
      "Number of SV: 1 \r\n",
      "Norm of weight vector: |w|=0.11619\r\n",
      "Value of slack variable (on working set): xi=4.21663\r\n",
      "Value of slack variable (global): xi=4.21663\r\n",
      "Norm of longest difference vector: ||Psi(x,y)-Psi(x,ybar)||=3.87313\r\n",
      "Runtime in cpu-seconds: 0.00\r\n",
      "Compacting linear model...done\r\n",
      "Writing learned model...done\r\n"
     ]
    }
   ],
   "source": [
    "! ../data/svm_rank/svm_rank_learn -c 0.03 ../data/svmrank_sample/train.dat ../data/svmrank_sample/model"
   ]
  },
  {
   "cell_type": "code",
   "execution_count": 4,
   "metadata": {},
   "outputs": [
    {
     "name": "stdout",
     "output_type": "stream",
     "text": [
      "SVM-light Version V6.20\r\n",
      "0 # kernel type\r\n",
      "3 # kernel parameter -d \r\n",
      "1 # kernel parameter -g \r\n",
      "1 # kernel parameter -s \r\n",
      "1 # kernel parameter -r \r\n",
      "empty# kernel parameter -u \r\n",
      "6 # highest feature index \r\n",
      "2 # number of training documents \r\n",
      "2 # number of support vectors plus 1 \r\n",
      "0 # threshold b, each following line is a SV (starting with alpha*y)\r\n",
      "1 1:0.099999994 2:-0.010000001 3:-0.049999997 4:-0.0010000003 5:0.029999999 #\r\n"
     ]
    }
   ],
   "source": [
    "!cat  ../data/svmrank_sample/model"
   ]
  },
  {
   "cell_type": "markdown",
   "metadata": {},
   "source": [
    "次に，訓練データを観察することで，文書を上位にランクするのに有効な特徴量について考察する．<br>\n",
    "重要度の高いデータを見ると，\n",
    "- 1次元目の特徴量が1になっている\n",
    "- 3次元目の特徴量が0になっている\n",
    "\n",
    "ことが分かる．\n",
    "そこで，どちらの特徴量が有効かどうかを調べる．"
   ]
  },
  {
   "cell_type": "markdown",
   "metadata": {},
   "source": [
    "以下のようなテストデータを用意する．<br>\n",
    "test1.datは1次元目の特徴量が1かつ3次元目の特徴量が0<br>\n",
    "test2.datは1次元目の特徴量が0かつ3次元目の特徴量が1<br>\n",
    "test3.datは1次元目の特徴量が1かつ3次元目の特徴量が1<br>\n",
    "とした．"
   ]
  },
  {
   "cell_type": "code",
   "execution_count": 28,
   "metadata": {},
   "outputs": [
    {
     "name": "stdout",
     "output_type": "stream",
     "text": [
      "4 qid:4 1:1 2:0 3:1 4:0.2 5:1\r",
      "\r\n",
      "3 qid:4 1:1 2:1 3:1 4:0.3 5:0\r",
      "\r\n",
      "2 qid:4 1:1 2:0 3:1 4:0.2 5:1\r",
      "\r\n",
      "1 qid:4 1:1 2:0 3:1 4:0.2 5:0\r",
      "\r\n"
     ]
    }
   ],
   "source": [
    "!cat ../data/svmrank_sample/test1.dat"
   ]
  },
  {
   "cell_type": "code",
   "execution_count": 29,
   "metadata": {},
   "outputs": [
    {
     "name": "stdout",
     "output_type": "stream",
     "text": [
      "4 qid:5 1:0 2:0 3:0 4:0.2 5:1\r",
      "\r\n",
      "3 qid:5 1:0 2:1 3:0 4:0.3 5:0\r",
      "\r\n",
      "2 qid:5 1:0 2:0 3:0 4:0.2 5:1\r",
      "\r\n",
      "1 qid:5 1:0 2:0 3:0 4:0.2 5:0\r",
      "\r\n"
     ]
    }
   ],
   "source": [
    "!cat ../data/svmrank_sample/test2.dat"
   ]
  },
  {
   "cell_type": "code",
   "execution_count": 30,
   "metadata": {},
   "outputs": [
    {
     "name": "stdout",
     "output_type": "stream",
     "text": [
      "4 qid:6 1:1 2:0 3:0 4:0.2 5:1\r",
      "\r\n",
      "3 qid:6 1:1 2:1 3:0 4:0.3 5:0\r",
      "\r\n",
      "2 qid:6 1:1 2:0 3:0 4:0.2 5:1\r",
      "\r\n",
      "1 qid:6 1:1 2:0 3:0 4:0.2 5:0\r",
      "\r\n"
     ]
    }
   ],
   "source": [
    "!cat ../data/svmrank_sample/test3.dat"
   ]
  },
  {
   "cell_type": "markdown",
   "metadata": {},
   "source": [
    "## テストデータへの適用\n",
    "テストデータに適用させた結果は以下の通りである．"
   ]
  },
  {
   "cell_type": "code",
   "execution_count": 31,
   "metadata": {},
   "outputs": [
    {
     "name": "stdout",
     "output_type": "stream",
     "text": [
      "Reading model...done.\r\n",
      "Reading test examples...done.\r\n",
      "Classifying test examples...done\r\n",
      "Runtime (without IO) in cpu-seconds: 0.00\r\n",
      "Average loss on test set: 0.5000\r\n",
      "Zero/one-error on test set: 100.00% (0 correct, 1 incorrect, 1 total)\r\n",
      "NOTE: The loss reported above is the fraction of swapped pairs averaged over\r\n",
      "      all rankings. The zero/one-error is fraction of perfectly correct\r\n",
      "      rankings!\r\n",
      "Total Num Swappedpairs  :      3\r\n",
      "Avg Swappedpairs Percent:  50.00\r\n"
     ]
    }
   ],
   "source": [
    "! ../data/svm_rank/svm_rank_classify ../data/svmrank_sample/test1.dat ../data/svmrank_sample/model ../data/svmrank_sample/prediction1"
   ]
  },
  {
   "cell_type": "code",
   "execution_count": 32,
   "metadata": {},
   "outputs": [
    {
     "name": "stdout",
     "output_type": "stream",
     "text": [
      "Reading model...done.\r\n",
      "Reading test examples...done.\r\n",
      "Classifying test examples...done\r\n",
      "Runtime (without IO) in cpu-seconds: 0.00\r\n",
      "Average loss on test set: 0.5000\r\n",
      "Zero/one-error on test set: 100.00% (0 correct, 1 incorrect, 1 total)\r\n",
      "NOTE: The loss reported above is the fraction of swapped pairs averaged over\r\n",
      "      all rankings. The zero/one-error is fraction of perfectly correct\r\n",
      "      rankings!\r\n",
      "Total Num Swappedpairs  :      3\r\n",
      "Avg Swappedpairs Percent:  50.00\r\n"
     ]
    }
   ],
   "source": [
    "! ../data/svm_rank/svm_rank_classify ../data/svmrank_sample/test2.dat ../data/svmrank_sample/model ../data/svmrank_sample/prediction2"
   ]
  },
  {
   "cell_type": "code",
   "execution_count": 33,
   "metadata": {},
   "outputs": [
    {
     "name": "stdout",
     "output_type": "stream",
     "text": [
      "Reading model...done.\r\n",
      "Reading test examples...done.\r\n",
      "Classifying test examples...done\r\n",
      "Runtime (without IO) in cpu-seconds: 0.00\r\n",
      "Average loss on test set: 0.5000\r\n",
      "Zero/one-error on test set: 100.00% (0 correct, 1 incorrect, 1 total)\r\n",
      "NOTE: The loss reported above is the fraction of swapped pairs averaged over\r\n",
      "      all rankings. The zero/one-error is fraction of perfectly correct\r\n",
      "      rankings!\r\n",
      "Total Num Swappedpairs  :      3\r\n",
      "Avg Swappedpairs Percent:  50.00\r\n"
     ]
    }
   ],
   "source": [
    "! ../data/svm_rank/svm_rank_classify ../data/svmrank_sample/test3.dat ../data/svmrank_sample/model ../data/svmrank_sample/prediction3"
   ]
  },
  {
   "cell_type": "code",
   "execution_count": 34,
   "metadata": {},
   "outputs": [
    {
     "name": "stdout",
     "output_type": "stream",
     "text": [
      "0.07980000\r\n",
      "0.03970000\r\n",
      "0.07980000\r\n",
      "0.04980000\r\n"
     ]
    }
   ],
   "source": [
    "!cat ../data/svmrank_sample/prediction1"
   ]
  },
  {
   "cell_type": "code",
   "execution_count": 35,
   "metadata": {},
   "outputs": [
    {
     "name": "stdout",
     "output_type": "stream",
     "text": [
      "0.02980000\r\n",
      "-0.01030000\r\n",
      "0.02980000\r\n",
      "-0.00020000\r\n"
     ]
    }
   ],
   "source": [
    "!cat ../data/svmrank_sample/prediction2"
   ]
  },
  {
   "cell_type": "code",
   "execution_count": 36,
   "metadata": {},
   "outputs": [
    {
     "name": "stdout",
     "output_type": "stream",
     "text": [
      "0.12979999\r\n",
      "0.08969999\r\n",
      "0.12979999\r\n",
      "0.09979999\r\n"
     ]
    }
   ],
   "source": [
    "!cat ../data/svmrank_sample/prediction3"
   ]
  },
  {
   "cell_type": "markdown",
   "metadata": {},
   "source": [
    "以上の結果から，3次元目の特徴量が0であるよりも，1次元目の特徴量の方が1であるほうが，よりランキングに影響を与える特徴量であることが分かる．これは，少ないデータの中で，1次元目の特徴量が1になっているものは必ず重要度が2以上になっているからであると考えられる．<br>\n",
    "このように，少ないデータであれば，特徴量を観察することで，有効な特徴量を推測することができた．"
   ]
  },
  {
   "cell_type": "markdown",
   "metadata": {},
   "source": [
    "## 任意課題（１）実際のデータに対するRanking SVM\n",
    "演習課題1で扱った文書コレクションおよびクエリに対して，適宜特徴量を自分で考え，訓練データ・学習データを用意せよ．\n",
    "そして，SVM-rankを適用し，テストデータに対するランキング結果を分析することでどのような特徴量が重要と判定されたか考察せよ．\n",
    "\n",
    "## 任意課題（２） 検索結果多様化\n",
    "\n",
    "講義で扱ったMMR，もしくはIA-SELECTを実装せよ．そして，演習課題1で扱ったコーパス・クエリに対してアルゴリズムを適用することで，多様化しない場合のランキングと多様化したランキングがどのように異なっているか考察せよ．\n",
    "\n",
    "# 課題の提出方法\n",
    "\n",
    "いずれかの方法で，ipython notebookのページ（.ipynbファイル）とそのhtml版を提出すること．\n",
    "\n",
    "1. 添付ファイルで山本に送信．\n",
    "   - 送付先 tyamamot at dl.kuis.kyoto-u.ac.jp\n",
    "2. 各自のgithubやgithub gistにアップロードし，そのURLを山本に送信．この場合はhtml版を用意する必要はない．\n",
    "3. 上記以外で，山本が実際に.ipynbファイルを確認できる方法．\n",
    "\n",
    "\n",
    "# 締切\n",
    "\n",
    "- 2017年1月31日（水）23:59\n",
    "- 締切に関する個別の相談は``受け付けます``．"
   ]
  },
  {
   "cell_type": "code",
   "execution_count": null,
   "metadata": {
    "collapsed": true
   },
   "outputs": [],
   "source": []
  }
 ],
 "metadata": {
  "kernelspec": {
   "display_name": "Python 3",
   "language": "python",
   "name": "python3"
  },
  "language_info": {
   "codemirror_mode": {
    "name": "ipython",
    "version": 3
   },
   "file_extension": ".py",
   "mimetype": "text/x-python",
   "name": "python",
   "nbconvert_exporter": "python",
   "pygments_lexer": "ipython3",
   "version": "3.6.2"
  }
 },
 "nbformat": 4,
 "nbformat_minor": 2
}
