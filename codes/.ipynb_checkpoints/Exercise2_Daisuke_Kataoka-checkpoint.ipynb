{
 "cells": [
  {
   "cell_type": "code",
   "execution_count": 2,
   "metadata": {},
   "outputs": [
    {
     "name": "stdout",
     "output_type": "stream",
     "text": [
      "Usage: pyNTCIREVAL [OPTIONS] COMMAND [ARGS]...\r\n",
      "\r\n",
      "Options:\r\n",
      "  -h, --help  Show this message and exit.\r\n",
      "\r\n",
      "Commands:\r\n",
      "  compute\r\n",
      "  label\r\n"
     ]
    }
   ],
   "source": [
    "!pyNTCIREVAL"
   ]
  },
  {
   "cell_type": "code",
   "execution_count": 4,
   "metadata": {},
   "outputs": [
    {
     "name": "stdout",
     "output_type": "stream",
     "text": [
      "d1 L1\r\n",
      "d2 L0\r\n",
      "d3 L2\r\n",
      "d4 L1\r\n",
      "d5 L0\r\n",
      "d6 L0"
     ]
    }
   ],
   "source": [
    "!cat ../data/eval/q1.rel # 適合性評価ファイル"
   ]
  },
  {
   "cell_type": "code",
   "execution_count": 5,
   "metadata": {},
   "outputs": [
    {
     "name": "stdout",
     "output_type": "stream",
     "text": [
      "d1\r\n",
      "d2\r\n",
      "d3"
     ]
    }
   ],
   "source": [
    "!cat ../data/eval/method1.q1.res # 検索結果ファイル"
   ]
  },
  {
   "cell_type": "markdown",
   "metadata": {},
   "source": [
    "---\n",
    "## 必須課題 （１） 動作の確認\n",
    "このページで用いた検索結果に対するpyNTCIREVALの出力のうち，MSnDCG@0003とnERR@0003が，講義資料の定義に従った計算と一致していることを確かめよ．つまり，nDCG@3とnERR@3を計算するプログラム書き，その結果がpyNTCIREVALの結果と一致していることを確認せよ．\n",
    "\n",
    "---"
   ]
  },
  {
   "cell_type": "code",
   "execution_count": 10,
   "metadata": {
    "collapsed": true
   },
   "outputs": [],
   "source": [
    "import math"
   ]
  },
  {
   "cell_type": "code",
   "execution_count": 125,
   "metadata": {
    "collapsed": true
   },
   "outputs": [],
   "source": [
    "def rel_convert(rel):\n",
    "    \"\"\" rel: 文書IDをi、rel[i]はi番目の文書の適合度とするリスト \"\"\"\n",
    "    with open(rel, \"r\") as rr:\n",
    "        rels = []\n",
    "        ress = []\n",
    "        for line in rr:\n",
    "            rels.append(int(line.split(\" \")[1].strip(\"L\"))) # d1: 1 d2: 0...のような形式\n",
    "            ress.append(int(line.split(\" \")[0].strip(\"d\")))\n",
    "    return rels, ress\n",
    "\n",
    "def res_convert(res):\n",
    "    \"\"\" res: 検索結果順に並んだリスト \"\"\"\n",
    "    with open(res, \"r\") as rs:\n",
    "        ress = [rels[int(line.strip(\"d\"))-1] for line in rs] # [2, 1, 0, 1]  検索結果順に並んだ適合率\n",
    "    return ress"
   ]
  },
  {
   "cell_type": "code",
   "execution_count": 101,
   "metadata": {
    "collapsed": true
   },
   "outputs": [],
   "source": [
    "def MSnDCG(k, rels, ress):\n",
    "    \"\"\" nDCG@kを計算 \"\"\"\n",
    "    dcg_k = 0\n",
    "    ideal_dcg_k = 0\n",
    "\n",
    "    ideal_rels = sorted(rels, reverse=True)\n",
    "\n",
    "    for i in range(k):\n",
    "        dcg_k += (2**ress[i] - 1) / math.log2(1 + (i+1))\n",
    "        ideal_dcg_k += (2**ideal_rels[i] - 1) / math.log2(1 + (i+1))\n",
    "    ndcg_k = dcg_k / ideal_dcg_k\n",
    "    #print(\"DCG / DCG' = {0} / {1} = {2}\".format(dcg_k, ideal_dcg_k, ndcg_k))\n",
    "\n",
    "    return ndcg_k"
   ]
  },
  {
   "cell_type": "code",
   "execution_count": 103,
   "metadata": {},
   "outputs": [],
   "source": [
    "def nERR(k, rels, ress):\n",
    "    ideal_rels = sorted(rels, reverse=True)\n",
    "    \n",
    "    def p_stop(rel_i, rel_max):\n",
    "        return (2**rel_i - 1) / (2**rel_max)\n",
    "    \n",
    "    def permute(k, ress, rel_max):\n",
    "        p = 1\n",
    "        if k == 0: return p\n",
    "        for i in range(k):\n",
    "            p = p * (1 - p_stop(ress[i], max(rels)))\n",
    "        return p\n",
    "\n",
    "    def ERR(docIDs, max_rel):\n",
    "        p_err = 0\n",
    "        for i in range(len(docIDs)):\n",
    "            p_s = p_stop(docIDs[i], max_rel)\n",
    "            prm = permute(i, docIDs, max(rels))\n",
    "            p_err += p_s * prm / (i+1)\n",
    "            #print(\"P_stop: {0} * ERR: {1} / Rank: {2} = P_ERR: {3}\".format(p_s, prm, i+1, p_err))\n",
    "        return p_err\n",
    "            \n",
    "    ideal_p_err = ERR(ideal_rels[:k], max(rels))\n",
    "    p_err = ERR(ress[:k], max(rels))\n",
    "    #print(\"{0}: ERR / ERR* = {1} / {2}\".format(i+1, p_err, ideal_p_err))\n",
    "\n",
    "    #print(\"ERR / ERR* = {0} / {1} = {2}\".format(p_err, ideal_p_err, p_err/ideal_p_err))    \n",
    "    return p_err / ideal_p_err"
   ]
  },
  {
   "cell_type": "code",
   "execution_count": 22,
   "metadata": {
    "collapsed": true
   },
   "outputs": [],
   "source": [
    "rel = \"../data/eval/q1.rel\"\n",
    "res = \"../data/eval/method1.q1.res\""
   ]
  },
  {
   "cell_type": "code",
   "execution_count": 93,
   "metadata": {},
   "outputs": [
    {
     "name": "stdout",
     "output_type": "stream",
     "text": [
      "[1, 0, 2, 1, 0, 0]\n",
      "[1, 0, 2]\n"
     ]
    }
   ],
   "source": [
    "rels, ress = rel_convert(rel)\n",
    "# ress = res_convert(res)\n",
    "print(rels)\n",
    "print(ress)"
   ]
  },
  {
   "cell_type": "code",
   "execution_count": 105,
   "metadata": {},
   "outputs": [
    {
     "name": "stdout",
     "output_type": "stream",
     "text": [
      "MSnDCG: 0.6051906348295047\n",
      "nERR: 0.5490196078431373\n"
     ]
    }
   ],
   "source": [
    "print(\"MSnDCG: {}\".format(MSnDCG(3, rels, ress)))\n",
    "print(\"nERR: {}\".format(nERR(3, rels, ress)))"
   ]
  },
  {
   "cell_type": "code",
   "execution_count": 95,
   "metadata": {},
   "outputs": [
    {
     "name": "stdout",
     "output_type": "stream",
     "text": [
      " # syslen=3 jrel=3 jnonrel=3\r\n",
      " # r1=1 rp=3\r\n",
      " RR=                 1.0000\r\n",
      " OMeasure=           0.5000\r\n",
      " PMeasure=           0.7500\r\n",
      " PPlusMeasure=       0.6250\r\n",
      " AP=                 0.5556\r\n",
      " QMeasure=           0.4167\r\n",
      " NCUguP=             0.6000\r\n",
      " NCUguBR=            0.5500\r\n",
      " NCUrbP=             0.5726\r\n",
      " NCUrbBR=            0.4251\r\n",
      " RBP=                0.0618\r\n",
      " ERR=                0.4375\r\n",
      " AP@0001=            1.0000\r\n",
      " QMeasure@0001=      0.5000\r\n",
      " nDCG@0001=          0.3333\r\n",
      " MSnDCG@0001=        0.3333\r\n",
      " Precision@0001=     1.0000\r\n",
      " nERR@0001=          0.3333\r\n",
      " Hit@0001=           1.0000\r\n",
      " AP@0003=            0.5556\r\n",
      " QMeasure@0003=      0.4167\r\n",
      " nDCG@0003=          0.6247\r\n",
      " MSnDCG@0003=        0.6052\r\n",
      " Precision@0003=     0.6667\r\n",
      " nERR@0003=          0.5490\r\n",
      " Hit@0003=           1.0000\r\n"
     ]
    }
   ],
   "source": [
    "!pyNTCIREVAL label -r ../data/eval/q1.rel < ../data/eval/method1.q1.res > method1.q1.rel\n",
    "!pyNTCIREVAL compute -r ../data/eval/q1.rel -g 1:3 --cutoffs=1,3　< method1.q1.rel"
   ]
  },
  {
   "cell_type": "markdown",
   "metadata": {},
   "source": [
    "上記のMSnDCGとnERRが、自ら作成した関数の値と一致していることが確認できた"
   ]
  },
  {
   "cell_type": "markdown",
   "metadata": {},
   "source": [
    "---\n",
    "## 必須課題（２）独自データに対する評価指標の計算\n",
    "演習課題1で扱った検索課題集合と検索結果に対して各自で評価用データを作成しpyNTCIREVALを用いて評価指標を計算せよ．そして， MRR，nDCG@3およびnERR@3の平均を報告し，それらの値の違いが各指標のどういった要因によるものか考察せよ．なお，演習課題1で扱ったコーパス以外で評価データを作成してもい．ただし，評価データはダミーデータでなく実際の何らかのランキングを評価したものとし，検索課題（クエリ）は3つ以上とする．\n",
    "\n",
    "---"
   ]
  },
  {
   "cell_type": "code",
   "execution_count": 127,
   "metadata": {},
   "outputs": [
    {
     "name": "stdout",
     "output_type": "stream",
     "text": [
      "[2, 2, 1, 1, 2, 1, 0, 0, 0, 2] [83, 20, 37, 6, 1, 2, 3, 4, 5, 38]\n",
      "[2, 2, 1, 1, 2, 1, 0, 0, 0, 2]\n",
      "[83, 20, 37, 6, 1, 2, 3, 4, 5, 38]\n",
      "MSnDCG1: 0.9367911266776714\n",
      "nERR1: 0.9945769246577604\n",
      "[1, 1, 1, 0, 2, 1, 1, 0, 1, 0] [61, 83, 20, 37, 6, 1, 2, 3, 4, 5]\n",
      "[1, 1, 1, 0, 2, 1, 1, 0, 1, 0]\n",
      "[61, 83, 20, 37, 6, 1, 2, 3, 4, 5]\n",
      "MSnDCG2: 0.7594996391124835\n",
      "nERR2: 0.5668800693825847\n",
      "[1, 1, 1, 2, 2, 1, 1, 1, 1, 1] [54, 67, 76, 49, 64, 1, 2, 3, 4, 5]\n",
      "[1, 1, 1, 2, 2, 1, 1, 1, 1, 1]\n",
      "[54, 67, 76, 49, 64, 1, 2, 3, 4, 5]\n",
      "MSnDCG3: 0.7915805917934894\n",
      "nERR3: 0.5701946504834883\n"
     ]
    }
   ],
   "source": [
    "for i in range(3):\n",
    "    rl = \"../data/eval/my_q{}.rel\".format(i+1)\n",
    "    rs = \"../data/eval/my_q{}.res\".format(i+1)\n",
    "    rls, rss = rel_convert(rl)\n",
    "#     rss = res_convert(rs)\n",
    "    print(rls)\n",
    "    print(rss)\n",
    "    print(\"MSnDCG{0}: {1}\".format(i+1, MSnDCG(10, rls, rls[:10])))\n",
    "    print(\"nERR{0}: {1}\".format(i+1, nERR(10, rls, rls[:10])))"
   ]
  },
  {
   "cell_type": "code",
   "execution_count": null,
   "metadata": {
    "collapsed": true
   },
   "outputs": [],
   "source": []
  }
 ],
 "metadata": {
  "kernelspec": {
   "display_name": "Python 3",
   "language": "python",
   "name": "python3"
  },
  "language_info": {
   "codemirror_mode": {
    "name": "ipython",
    "version": 3
   },
   "file_extension": ".py",
   "mimetype": "text/x-python",
   "name": "python",
   "nbconvert_exporter": "python",
   "pygments_lexer": "ipython3",
   "version": "3.6.2"
  }
 },
 "nbformat": 4,
 "nbformat_minor": 2
}
