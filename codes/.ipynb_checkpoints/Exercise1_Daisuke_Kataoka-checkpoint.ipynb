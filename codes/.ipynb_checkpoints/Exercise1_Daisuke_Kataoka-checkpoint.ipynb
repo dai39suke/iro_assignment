{
 "cells": [
  {
   "cell_type": "markdown",
   "metadata": {},
   "source": [
    "# 演習課題その1 ベクトル空間モデル\n",
    "\n",
    "<h3>\n",
    "<p style=\"text-align: right;\">\n",
    "情報学研究科　社会情報学専攻　社会情報モデル講座　田島研究室\n",
    "<br>\n",
    "<br>\n",
    "6930298362　修士1回　片岡 大祐\n",
    "</p>\n",
    "</h3>"
   ]
  },
  {
   "cell_type": "markdown",
   "metadata": {},
   "source": [
    "## 必須課題（1） 与えられたコーパスに対する検索の実現"
   ]
  },
  {
   "cell_type": "code",
   "execution_count": 4,
   "metadata": {},
   "outputs": [
    {
     "name": "stdout",
     "output_type": "stream",
     "text": [
      "Num of docs =  83\n"
     ]
    }
   ],
   "source": [
    "import json\n",
    "with open(\"../data/kyoto_results_100.json\", \"r\") as f:\n",
    "    docs = json.load(f)\n",
    "print(\"Num of docs = \", len(docs))"
   ]
  },
  {
   "cell_type": "code",
   "execution_count": 5,
   "metadata": {},
   "outputs": [],
   "source": [
    "import numpy as np\n",
    "import gensim\n",
    "from nltk.corpus import stopwords\n",
    "import pandas as pd\n",
    "np.set_printoptions(precision=4)"
   ]
  },
  {
   "cell_type": "code",
   "execution_count": 6,
   "metadata": {},
   "outputs": [],
   "source": [
    "corpus = [doc[\"bow\"].split() for doc in docs]"
   ]
  },
  {
   "cell_type": "code",
   "execution_count": 7,
   "metadata": {},
   "outputs": [],
   "source": [
    "# stopword 除去?\n",
    "# corpus"
   ]
  },
  {
   "cell_type": "code",
   "execution_count": 8,
   "metadata": {},
   "outputs": [],
   "source": [
    "dictionary = gensim.corpora.Dictionary(corpus)\n",
    "#dictionary.token2id"
   ]
  },
  {
   "cell_type": "code",
   "execution_count": 9,
   "metadata": {},
   "outputs": [],
   "source": [
    "id_corpus = [dictionary.doc2bow(document) for document in corpus]\n",
    "#id_corpus[0]"
   ]
  },
  {
   "cell_type": "code",
   "execution_count": 28,
   "metadata": {},
   "outputs": [],
   "source": [
    "tfidf_model = gensim.models.TfidfModel(id_corpus, normalize=False)\n",
    "tfidf_corpus = tfidf_model[id_corpus]\n",
    "tfidf_vectors = gensim.matutils.corpus2dense(tfidf_corpus, len(dictionary)).T"
   ]
  },
  {
   "cell_type": "code",
   "execution_count": 20,
   "metadata": {},
   "outputs": [],
   "source": [
    "# tfidf_corpus[0]"
   ]
  },
  {
   "cell_type": "code",
   "execution_count": 12,
   "metadata": {},
   "outputs": [],
   "source": [
    "#[(dictionary[x[0]], x[1]) for x in tfidf_corpus[0]]"
   ]
  },
  {
   "cell_type": "code",
   "execution_count": 13,
   "metadata": {},
   "outputs": [],
   "source": [
    "from scipy.spatial.distance import cosine\n",
    "def cosine_sim(v1, v2):\n",
    "    #scipyのcosineは類似度ではなく距離関数のため， 1-コサイン距離　とすることで，コサイン類似度に変換する\n",
    "    return 1.0 - cosine(v1, v2) "
   ]
  },
  {
   "cell_type": "code",
   "execution_count": 50,
   "metadata": {},
   "outputs": [],
   "source": [
    "queries = [{\"京都\"}, {\"京都\", \"穴場\"}, {\"関西\", \"観光\", \"名所\"}]"
   ]
  },
  {
   "cell_type": "code",
   "execution_count": 51,
   "metadata": {},
   "outputs": [],
   "source": [
    "def rank_documents(query, tfidf_vectors):\n",
    "    score_dic = {}\n",
    "    tfidf_q = tfidf_model[dictionary.doc2bow(query)]  #クエリをtfidfベクトルに変換\n",
    "    query_vector = gensim.matutils.corpus2dense([tfidf_q], len(dictionary)).T[0] #numpyのベクトルに変換\n",
    "#     print (\"q=\", query_vector)\n",
    "#     print(tfidf_vectors)\n",
    "    for i, tfidf_vector in enumerate(tfidf_vectors):\n",
    "        score_dic[i] = cosine_sim(query_vector, tfidf_vector)\n",
    "    return score_dic"
   ]
  },
  {
   "cell_type": "code",
   "execution_count": 18,
   "metadata": {},
   "outputs": [
    {
     "name": "stdout",
     "output_type": "stream",
     "text": [
      "[('京都', 0.035189428462300186)]\n"
     ]
    }
   ],
   "source": [
    "print([(dictionary[x[0]], x[1]) for x in tfidf_q1])"
   ]
  },
  {
   "cell_type": "code",
   "execution_count": 55,
   "metadata": {},
   "outputs": [
    {
     "ename": "AttributeError",
     "evalue": "'set' object has no attribute 'strip'",
     "output_type": "error",
     "traceback": [
      "\u001b[0;31m---------------------------------------------------------------------------\u001b[0m",
      "\u001b[0;31mAttributeError\u001b[0m                            Traceback (most recent call last)",
      "\u001b[0;32m<ipython-input-55-64df80a67e19>\u001b[0m in \u001b[0;36m<module>\u001b[0;34m()\u001b[0m\n\u001b[0;32m----> 1\u001b[0;31m \u001b[0mprint\u001b[0m\u001b[0;34m(\u001b[0m\u001b[0;34m\"-----クエリ1:{}の実行結果-----\\n\"\u001b[0m\u001b[0;34m.\u001b[0m\u001b[0mformat\u001b[0m\u001b[0;34m(\u001b[0m\u001b[0mqueries\u001b[0m\u001b[0;34m[\u001b[0m\u001b[0;36m0\u001b[0m\u001b[0;34m]\u001b[0m\u001b[0;34m.\u001b[0m\u001b[0mstrip\u001b[0m\u001b[0;34m(\u001b[0m\u001b[0;34m\"{}\"\u001b[0m\u001b[0;34m)\u001b[0m\u001b[0;34m)\u001b[0m\u001b[0;34m)\u001b[0m\u001b[0;34m\u001b[0m\u001b[0m\n\u001b[0m\u001b[1;32m      2\u001b[0m \u001b[0mscore_dic\u001b[0m \u001b[0;34m=\u001b[0m \u001b[0mrank_documents\u001b[0m\u001b[0;34m(\u001b[0m\u001b[0mqueries\u001b[0m\u001b[0;34m[\u001b[0m\u001b[0;36m0\u001b[0m\u001b[0;34m]\u001b[0m\u001b[0;34m,\u001b[0m \u001b[0mtfidf_vectors\u001b[0m\u001b[0;34m)\u001b[0m\u001b[0;34m\u001b[0m\u001b[0m\n\u001b[1;32m      3\u001b[0m \u001b[0;32mfor\u001b[0m \u001b[0mi\u001b[0m\u001b[0;34m,\u001b[0m \u001b[0mscore\u001b[0m \u001b[0;32min\u001b[0m \u001b[0msorted\u001b[0m\u001b[0;34m(\u001b[0m\u001b[0mscore_dic\u001b[0m\u001b[0;34m.\u001b[0m\u001b[0mitems\u001b[0m\u001b[0;34m(\u001b[0m\u001b[0;34m)\u001b[0m\u001b[0;34m,\u001b[0m \u001b[0mkey\u001b[0m\u001b[0;34m=\u001b[0m\u001b[0;32mlambda\u001b[0m \u001b[0mx\u001b[0m\u001b[0;34m:\u001b[0m\u001b[0mx\u001b[0m\u001b[0;34m[\u001b[0m\u001b[0;36m1\u001b[0m\u001b[0;34m]\u001b[0m\u001b[0;34m,\u001b[0m \u001b[0mreverse\u001b[0m\u001b[0;34m=\u001b[0m\u001b[0;32mTrue\u001b[0m\u001b[0;34m)\u001b[0m\u001b[0;34m[\u001b[0m\u001b[0;34m:\u001b[0m\u001b[0;36m10\u001b[0m\u001b[0;34m]\u001b[0m\u001b[0;34m:\u001b[0m\u001b[0;34m\u001b[0m\u001b[0m\n\u001b[1;32m      4\u001b[0m     \u001b[0mprint\u001b[0m\u001b[0;34m(\u001b[0m\u001b[0;34m\"{0}: {1} [SCORE: {2}]\\n\"\u001b[0m\u001b[0;34m.\u001b[0m\u001b[0mformat\u001b[0m\u001b[0;34m(\u001b[0m\u001b[0mi\u001b[0m\u001b[0;34m+\u001b[0m\u001b[0;36m1\u001b[0m\u001b[0;34m,\u001b[0m \u001b[0;34m\"\"\u001b[0m\u001b[0;34m.\u001b[0m\u001b[0mjoin\u001b[0m\u001b[0;34m(\u001b[0m\u001b[0mcorpus\u001b[0m\u001b[0;34m[\u001b[0m\u001b[0mi\u001b[0m\u001b[0;34m]\u001b[0m\u001b[0;34m)\u001b[0m\u001b[0;34m,\u001b[0m \u001b[0mscore\u001b[0m\u001b[0;34m)\u001b[0m\u001b[0;34m)\u001b[0m\u001b[0;34m\u001b[0m\u001b[0m\n",
      "\u001b[0;31mAttributeError\u001b[0m: 'set' object has no attribute 'strip'"
     ]
    }
   ],
   "source": [
    "print(\"-----クエリ1:{}の実行結果-----\\n\".format(queries[0].strip(\"{}\")))\n",
    "score_dic = rank_documents(queries[0], tfidf_vectors)\n",
    "for i, score in sorted(score_dic.items(), key=lambda x:x[1], reverse=True)[:10]:\n",
    "    print(\"{0}: {1} [SCORE: {2}]\\n\".format(i+1, \"\".join(corpus[i]), score))"
   ]
  },
  {
   "cell_type": "code",
   "execution_count": 56,
   "metadata": {},
   "outputs": [
    {
     "ename": "AttributeError",
     "evalue": "'set' object has no attribute 'strip'",
     "output_type": "error",
     "traceback": [
      "\u001b[0;31m---------------------------------------------------------------------------\u001b[0m",
      "\u001b[0;31mAttributeError\u001b[0m                            Traceback (most recent call last)",
      "\u001b[0;32m<ipython-input-56-0a1aba176f84>\u001b[0m in \u001b[0;36m<module>\u001b[0;34m()\u001b[0m\n\u001b[0;32m----> 1\u001b[0;31m \u001b[0mprint\u001b[0m\u001b[0;34m(\u001b[0m\u001b[0;34m\"-----クエリ2:{}の実行結果-----\\n\"\u001b[0m\u001b[0;34m.\u001b[0m\u001b[0mformat\u001b[0m\u001b[0;34m(\u001b[0m\u001b[0mqueries\u001b[0m\u001b[0;34m[\u001b[0m\u001b[0;36m1\u001b[0m\u001b[0;34m]\u001b[0m\u001b[0;34m.\u001b[0m\u001b[0mstrip\u001b[0m\u001b[0;34m(\u001b[0m\u001b[0;34m\"{}\"\u001b[0m\u001b[0;34m)\u001b[0m\u001b[0;34m)\u001b[0m\u001b[0;34m)\u001b[0m\u001b[0;34m\u001b[0m\u001b[0m\n\u001b[0m\u001b[1;32m      2\u001b[0m \u001b[0mscore_dic\u001b[0m \u001b[0;34m=\u001b[0m \u001b[0mrank_documents\u001b[0m\u001b[0;34m(\u001b[0m\u001b[0mqueries\u001b[0m\u001b[0;34m[\u001b[0m\u001b[0;36m1\u001b[0m\u001b[0;34m]\u001b[0m\u001b[0;34m,\u001b[0m \u001b[0mtfidf_vectors\u001b[0m\u001b[0;34m)\u001b[0m\u001b[0;34m\u001b[0m\u001b[0m\n\u001b[1;32m      3\u001b[0m \u001b[0;32mfor\u001b[0m \u001b[0mi\u001b[0m\u001b[0;34m,\u001b[0m \u001b[0mscore\u001b[0m \u001b[0;32min\u001b[0m \u001b[0msorted\u001b[0m\u001b[0;34m(\u001b[0m\u001b[0mscore_dic\u001b[0m\u001b[0;34m.\u001b[0m\u001b[0mitems\u001b[0m\u001b[0;34m(\u001b[0m\u001b[0;34m)\u001b[0m\u001b[0;34m,\u001b[0m \u001b[0mkey\u001b[0m\u001b[0;34m=\u001b[0m\u001b[0;32mlambda\u001b[0m \u001b[0mx\u001b[0m\u001b[0;34m:\u001b[0m\u001b[0mx\u001b[0m\u001b[0;34m[\u001b[0m\u001b[0;36m1\u001b[0m\u001b[0;34m]\u001b[0m\u001b[0;34m,\u001b[0m \u001b[0mreverse\u001b[0m\u001b[0;34m=\u001b[0m\u001b[0;32mTrue\u001b[0m\u001b[0;34m)\u001b[0m\u001b[0;34m[\u001b[0m\u001b[0;34m:\u001b[0m\u001b[0;36m10\u001b[0m\u001b[0;34m]\u001b[0m\u001b[0;34m:\u001b[0m\u001b[0;34m\u001b[0m\u001b[0m\n\u001b[1;32m      4\u001b[0m     \u001b[0mprint\u001b[0m\u001b[0;34m(\u001b[0m\u001b[0;34m\"{0}: {1} [SCORE: {2}]\\n\"\u001b[0m\u001b[0;34m.\u001b[0m\u001b[0mformat\u001b[0m\u001b[0;34m(\u001b[0m\u001b[0mi\u001b[0m\u001b[0;34m+\u001b[0m\u001b[0;36m1\u001b[0m\u001b[0;34m,\u001b[0m \u001b[0;34m\"\"\u001b[0m\u001b[0;34m.\u001b[0m\u001b[0mjoin\u001b[0m\u001b[0;34m(\u001b[0m\u001b[0mcorpus\u001b[0m\u001b[0;34m[\u001b[0m\u001b[0mi\u001b[0m\u001b[0;34m]\u001b[0m\u001b[0;34m)\u001b[0m\u001b[0;34m,\u001b[0m \u001b[0mscore\u001b[0m\u001b[0;34m)\u001b[0m\u001b[0;34m)\u001b[0m\u001b[0;34m\u001b[0m\u001b[0m\n",
      "\u001b[0;31mAttributeError\u001b[0m: 'set' object has no attribute 'strip'"
     ]
    }
   ],
   "source": [
    "print(\"-----クエリ2:{}の実行結果-----\\n\".format(queries[1].strip(\"{}\")))\n",
    "score_dic = rank_documents(queries[1], tfidf_vectors)\n",
    "for i, score in sorted(score_dic.items(), key=lambda x:x[1], reverse=True)[:10]:\n",
    "    print(\"{0}: {1} [SCORE: {2}]\\n\".format(i+1, \"\".join(corpus[i]), score))"
   ]
  },
  {
   "cell_type": "code",
   "execution_count": 48,
   "metadata": {},
   "outputs": [
    {
     "name": "stdout",
     "output_type": "stream",
     "text": [
      "-----クエリ3:関西 観光 名所の実行結果-----\n",
      "\n",
      "1: 定番穴場おススメ京都観光...-NAVERまとめ関西住んいる作者おススメ京都観光名所まとめました定番穴場スポット随時まとめいきます是非京都観光参考し下さい [SCORE: nan]\n",
      "\n",
      "2: 京都観光スポットランキングTOP10-らんnet京都おすすめ観光スポット1740ヶ所セレクト人気清水寺伏見稲荷大社口コミランキングご紹介京都周辺観光スポット探すなららんnet [SCORE: nan]\n",
      "\n",
      "3: 京都府観光ガイド～京都府観光連盟公式サイト～。京都観光情報満載京都府観光連盟公式サイトスポットイベントエリアジャンルごと検索できます紅葉桜開花情報季節おすすめ温泉美術館幅広く掲載 [SCORE: nan]\n",
      "\n",
      "4: 京都観光おすすめコースガイド|京都観光京都観光楽しむためサイトですおすすめコースエリア別テーマ別ガイドしいます庭園仏像ご利益さん歳時記解説しいます [SCORE: nan]\n",
      "\n",
      "5: だ京都行こう～京都旅行観光スポット...。JR東海京都観光情報だ京都行こう公式サイト京都風景お寺神社イベントお祭りお食事お土産情報ご案内京都楽しくなる特集記事インタビュー [SCORE: nan]\n",
      "\n",
      "6: 京都観光研究所|京都旅行おすすめコース名所スポット地図...。京都観光研究所名所穴場150ヶ所以上観光名所掲載しいます観光名所基本データはじめ周辺スポットアクセス方法京都旅行リピーター役立つ京都観光情報地図写真... [SCORE: nan]\n",
      "\n",
      "7: 京都パーフェクトガイド京都観光.com本音語る京都観光案内おすすめ散策コース地図お土産珍しいお守り食事カフェ案内穴場定番いい所いい場所紹介します [SCORE: nan]\n",
      "\n",
      "8: おすすめ京都観光コース|京都観光情報KYOTOdesign定番京都観光コース京都人知らないようなとっおきおすすめ観光コースいろいろなテーマ京都観光コースご紹介しいますそれぞれ立ち寄りスポット詳細な情報掲載しおります [SCORE: nan]\n",
      "\n",
      "9: 公益社団法人京都市観光協会|KYOTOCITYTOURISM...。京都イベント祭事季節花宿泊食事体験買い物施設京都観光役立つ情報発信しいます...京夏旅定期観光バス特別コース運行中鮎塩焼き夏味覚特別公開巡る [SCORE: nan]\n",
      "\n",
      "10: 京都市京都府観光ガイド～京都府観光連盟公式サイト～。京都市特色観光情報紹介します...着付体験無料10月24日金11月5日水秋大原女祭り2014年10月30日更新 [SCORE: nan]\n",
      "\n"
     ]
    },
    {
     "name": "stderr",
     "output_type": "stream",
     "text": [
      "/usr/local/lib/python3.6/site-packages/scipy/spatial/distance.py:505: RuntimeWarning: invalid value encountered in true_divide\n",
      "  dist = 1.0 - np.dot(u, v) / (norm(u) * norm(v))\n"
     ]
    }
   ],
   "source": [
    "print(\"-----クエリ3:{}の実行結果-----\\n\".format(queries[2]))\n",
    "score_dic = rank_documents(queries[2], tfidf_vectors)\n",
    "for i, score in sorted(score_dic.items(), key=lambda x:x[1], reverse=True)[:10]:\n",
    "    print(\"{0}: {1} [SCORE: {2}]\\n\".format(i+1, \"\".join(corpus[i]), score))"
   ]
  },
  {
   "cell_type": "code",
   "execution_count": null,
   "metadata": {},
   "outputs": [],
   "source": []
  }
 ],
 "metadata": {
  "kernelspec": {
   "display_name": "Python 3",
   "language": "python",
   "name": "python3"
  },
  "language_info": {
   "codemirror_mode": {
    "name": "ipython",
    "version": 3
   },
   "file_extension": ".py",
   "mimetype": "text/x-python",
   "name": "python",
   "nbconvert_exporter": "python",
   "pygments_lexer": "ipython3",
   "version": "3.6.3"
  }
 },
 "nbformat": 4,
 "nbformat_minor": 2
}
