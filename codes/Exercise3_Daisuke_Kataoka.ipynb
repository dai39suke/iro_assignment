{
 "cells": [
  {
   "cell_type": "markdown",
   "metadata": {},
   "source": [
    "----\n",
    "# 演習課題その3 リンク解析\n",
    "\n",
    "## 必須課題（１）PageRankアルゴリズムの確認\n",
    "\n",
    "講義資料「リンク解析（１）」p12のグラフに対して，遷移確率行列が確率行列の性質を満たすよう修正し，\n",
    "べき乗法に基づくPageRankの計算を適用し，結果を報告せよ．ただし，$d = 0.85$とする．また，さまざまな初期状態分布に対してPageRank値を求めることで，異なる初期状態分布に対して同じPageRank値が得られることを確認せよ．"
   ]
  },
  {
   "cell_type": "code",
   "execution_count": 98,
   "metadata": {},
   "outputs": [
    {
     "data": {
      "text/plain": [
       "'%.2f'"
      ]
     },
     "execution_count": 98,
     "metadata": {},
     "output_type": "execute_result"
    }
   ],
   "source": [
    "import numpy as np\n",
    "import numpy.linalg as lg\n",
    "import networkx as nx\n",
    "import matplotlib.pyplot as plt\n",
    "%matplotlib inline\n",
    "%precision 2"
   ]
  },
  {
   "cell_type": "markdown",
   "metadata": {},
   "source": [
    "べき乗法に基づく，pagerankの計算を以下のように定義する．"
   ]
  },
  {
   "cell_type": "code",
   "execution_count": 99,
   "metadata": {},
   "outputs": [],
   "source": [
    "def pagerank(A, d = 0.85, eps = 1e-6, p=np.ones(A.shape[0])/A.shape[0]):\n",
    "    \"\"\"\n",
    "      A: 遷移確率行列\n",
    "      d: damping factor\n",
    "      eps: 誤差（eps以下になれば終了）\n",
    "    \"\"\"\n",
    "    n = A.shape[0]  #ページ数n\n",
    "    e = np.ones(A.shape[0]) #要素が1のn次元ベクトル\n",
    "    #p = e  / n #PageRankベクトルの初期化（初期状態分布）\n",
    "    print(\"P: \", p)\n",
    "    count = 1\n",
    "    while True: # while Trueとしているが，実際には一定回数以上ループを繰り返すとアルゴリズムを終了するような設計がよい\n",
    "        if count >= 1000:\n",
    "            print(\"Not converged\")\n",
    "            break\n",
    "        p_next = d * np.dot(A.T, p) + (1.0 - d) * e/n # PageRankベクトルの更新\n",
    "        if lg.norm(p_next - p, ord=1) <= eps: #差のL1ノルムがeps以下になれば，終了\n",
    "            p = p_next\n",
    "            break\n",
    "        p = p_next\n",
    "        count += 1\n",
    "    return p"
   ]
  },
  {
   "cell_type": "code",
   "execution_count": 100,
   "metadata": {},
   "outputs": [
    {
     "name": "stderr",
     "output_type": "stream",
     "text": [
      "/Users/kataoka/.pyenv/versions/anaconda3-5.0.0/lib/python3.6/site-packages/networkx/drawing/nx_pylab.py:126: MatplotlibDeprecationWarning: pyplot.hold is deprecated.\n",
      "    Future behavior will be consistent with the long-time default:\n",
      "    plot commands add elements without first clearing the\n",
      "    Axes and/or Figure.\n",
      "  b = plt.ishold()\n",
      "/Users/kataoka/.pyenv/versions/anaconda3-5.0.0/lib/python3.6/site-packages/networkx/drawing/nx_pylab.py:138: MatplotlibDeprecationWarning: pyplot.hold is deprecated.\n",
      "    Future behavior will be consistent with the long-time default:\n",
      "    plot commands add elements without first clearing the\n",
      "    Axes and/or Figure.\n",
      "  plt.hold(b)\n",
      "/Users/kataoka/.pyenv/versions/anaconda3-5.0.0/lib/python3.6/site-packages/matplotlib/__init__.py:917: UserWarning: axes.hold is deprecated. Please remove it from your matplotlibrc and/or style files.\n",
      "  warnings.warn(self.msg_depr_set % key)\n",
      "/Users/kataoka/.pyenv/versions/anaconda3-5.0.0/lib/python3.6/site-packages/matplotlib/rcsetup.py:152: UserWarning: axes.hold is deprecated, will be removed in 3.0\n",
      "  warnings.warn(\"axes.hold is deprecated, will be removed in 3.0\")\n"
     ]
    },
    {
     "data": {
      "image/png": "[encoded data removed]",
      "text/plain": [
       "<matplotlib.figure.Figure at 0x1114b84e0>"
      ]
     },
     "metadata": {},
     "output_type": "display_data"
    }
   ],
   "source": [
    "# 有向グラフの描画\n",
    "G = nx.DiGraph()\n",
    "G.add_nodes_from([1,2,3,4,5,6])\n",
    "G.add_edges_from([(1,2),(1,3),(2,1),(2,3),(3,2),(4,3),(4,5),(4,6),(6,4),(6,5)])\n",
    "pos = nx.spring_layout(G) # ばねモデルに基づくグラフのレイアウト\n",
    "nx.draw(G, pos, with_labels=True, node_size=500, node_color=\"w\")\n",
    "plt.show()"
   ]
  },
  {
   "cell_type": "markdown",
   "metadata": {},
   "source": [
    "講義資料p.12のグラフは，上記のように定義される．<br>\n",
    "上記のグラフに対して，初期状態分布を以下のように定義する．"
   ]
  },
  {
   "cell_type": "code",
   "execution_count": 101,
   "metadata": {},
   "outputs": [
    {
     "data": {
      "text/plain": [
       "array([[ 0.  ,  0.5 ,  0.5 ,  0.  ,  0.  ,  0.  ],\n",
       "       [ 0.5 ,  0.  ,  0.5 ,  0.  ,  0.  ,  0.  ],\n",
       "       [ 0.  ,  1.  ,  0.  ,  0.  ,  0.  ,  0.  ],\n",
       "       [ 0.  ,  0.  ,  0.33,  0.  ,  0.  ,  0.  ],\n",
       "       [ 0.17,  0.17,  0.17,  0.17,  0.17,  0.17],\n",
       "       [ 0.  ,  0.  ,  0.  ,  0.5 ,  0.5 ,  0.  ]])"
      ]
     },
     "execution_count": 101,
     "metadata": {},
     "output_type": "execute_result"
    }
   ],
   "source": [
    "A = np.array([\n",
    "    [0, 1/2, 1/2, 0, 0, 0],\n",
    "    [1/2, 0, 1/2, 0, 0, 0],\n",
    "    [0, 1, 0, 0, 0, 0],\n",
    "    [0, 0, 1/3, 0, 0, 0],\n",
    "    [1/6, 1/6, 1/6, 1/6, 1/6, 1/6],\n",
    "    [0, 0, 0, 1/2, 1/2, 0]\n",
    "])\n",
    "A"
   ]
  },
  {
   "cell_type": "markdown",
   "metadata": {},
   "source": [
    "ノード5から他のノードへエッジは張られていないが，全てのページへリンクを張ることで，遷移確率行列を修正する．<br>\n",
    "この修正された遷移確率行列に対し，様々な初期状態分布の場合に対しPageRank値を計算する．"
   ]
  },
  {
   "cell_type": "code",
   "execution_count": 15,
   "metadata": {
    "scrolled": true
   },
   "outputs": [
    {
     "name": "stdout",
     "output_type": "stream",
     "text": [
      "P:  [ 0.17  0.17  0.17  0.17  0.17  0.17]\n"
     ]
    },
    {
     "data": {
      "text/plain": [
       "array([ 0.16,  0.31,  0.24,  0.04,  0.04,  0.03])"
      ]
     },
     "execution_count": 15,
     "metadata": {},
     "output_type": "execute_result"
    }
   ],
   "source": [
    "p = pagerank(A, d = 0.85, eps=1e-6)\n",
    "p"
   ]
  },
  {
   "cell_type": "code",
   "execution_count": 16,
   "metadata": {},
   "outputs": [
    {
     "name": "stdout",
     "output_type": "stream",
     "text": [
      "P:  [ 0.05  0.1   0.14  0.19  0.24  0.29]\n"
     ]
    },
    {
     "data": {
      "text/plain": [
       "array([ 0.16,  0.31,  0.24,  0.04,  0.04,  0.03])"
      ]
     },
     "execution_count": 16,
     "metadata": {},
     "output_type": "execute_result"
    }
   ],
   "source": [
    "a = np.arange(A.shape[0]) + np.ones(A.shape[0])\n",
    "p = pagerank(A, d = 0.85, eps=1e-6, p=a/np.sum(a))\n",
    "p"
   ]
  },
  {
   "cell_type": "code",
   "execution_count": 102,
   "metadata": {},
   "outputs": [
    {
     "name": "stdout",
     "output_type": "stream",
     "text": [
      "P:  [ 0.17  0.17  0.17  0.17  0.17  0.17]\n"
     ]
    },
    {
     "data": {
      "text/plain": [
       "array([ 0.16,  0.31,  0.24,  0.04,  0.04,  0.03])"
      ]
     },
     "execution_count": 102,
     "metadata": {},
     "output_type": "execute_result"
    }
   ],
   "source": [
    "p = pagerank(A, d = 0.85, eps=1e-6)\n",
    "p"
   ]
  },
  {
   "cell_type": "markdown",
   "metadata": {},
   "source": [
    "確かに，異なる初期状態分布に対して，同じPageRank値が得られることが確認できた．"
   ]
  },
  {
   "cell_type": "markdown",
   "metadata": {},
   "source": [
    "## 必須課題（２）定常分布\n",
    "\n",
    "講義で述べたように，マルコフ連鎖が一意の定常分布 ${\\mathbf \\pi}$ を持つためには，そのマルコフ連鎖は既約かつ非周期的である必要がある．そこで，「既約ではあるが非周期的でないマルコフ連鎖」であるようなウェブグラフ$G$を用意し，$G$に対してテレポーテーションを用いない単純なPageRankアルゴリズム（すなわち，${\\mathbf p} = A^{T}{\\mathbf p}$）に基づくべき乗法を適用することで，初期状態分布によってはPageRankベクトルが収束しない場合があることを確認せよ．\n",
    "\n",
    "- 用意したウェブグラフ$G$をNetworkXで可視化すること\n",
    "- 用意したウェブグラフ$G$は，講義で使用した例とは異なる例を用いること"
   ]
  },
  {
   "cell_type": "markdown",
   "metadata": {},
   "source": [
    "既約かつ非周期的でない有向グラフの例として以下のグラフを考える．\n",
    "下のグラフ_G_は一定時間経過後全てのノードに達することができるため，既約であるが，\n",
    "全てのパスの長さが3の倍数になるため，非周期的ではない．"
   ]
  },
  {
   "cell_type": "code",
   "execution_count": 94,
   "metadata": {},
   "outputs": [
    {
     "name": "stderr",
     "output_type": "stream",
     "text": [
      "/Users/kataoka/.pyenv/versions/anaconda3-5.0.0/lib/python3.6/site-packages/networkx/drawing/nx_pylab.py:126: MatplotlibDeprecationWarning: pyplot.hold is deprecated.\n",
      "    Future behavior will be consistent with the long-time default:\n",
      "    plot commands add elements without first clearing the\n",
      "    Axes and/or Figure.\n",
      "  b = plt.ishold()\n",
      "/Users/kataoka/.pyenv/versions/anaconda3-5.0.0/lib/python3.6/site-packages/networkx/drawing/nx_pylab.py:138: MatplotlibDeprecationWarning: pyplot.hold is deprecated.\n",
      "    Future behavior will be consistent with the long-time default:\n",
      "    plot commands add elements without first clearing the\n",
      "    Axes and/or Figure.\n",
      "  plt.hold(b)\n",
      "/Users/kataoka/.pyenv/versions/anaconda3-5.0.0/lib/python3.6/site-packages/matplotlib/__init__.py:917: UserWarning: axes.hold is deprecated. Please remove it from your matplotlibrc and/or style files.\n",
      "  warnings.warn(self.msg_depr_set % key)\n",
      "/Users/kataoka/.pyenv/versions/anaconda3-5.0.0/lib/python3.6/site-packages/matplotlib/rcsetup.py:152: UserWarning: axes.hold is deprecated, will be removed in 3.0\n",
      "  warnings.warn(\"axes.hold is deprecated, will be removed in 3.0\")\n"
     ]
    },
    {
     "data": {
      "image/png": "[encoded data removed]",
      "text/plain": [
       "<matplotlib.figure.Figure at 0x1118c0710>"
      ]
     },
     "metadata": {},
     "output_type": "display_data"
    }
   ],
   "source": [
    "# 既約かつ非周期的でない有向グラフの描画\n",
    "G = nx.DiGraph()\n",
    "#G.add_nodes_from([1,2,3,4])\n",
    "#G.add_edges_from([(1,4),(2,4),(3,4),(4,1),(4,2),(4,3)])\n",
    "G.add_nodes_from([1,2,3,4,5])\n",
    "G.add_edges_from([(1,2),(2,5),(3,4),(4,5),(5,1),(5,3)])\n",
    "pos = nx.spring_layout(G) # ばねモデルに基づくグラフのレイアウト\n",
    "nx.draw(G, pos, with_labels=True, node_size=500, node_color=\"w\")\n",
    "plt.show()"
   ]
  },
  {
   "cell_type": "code",
   "execution_count": 95,
   "metadata": {},
   "outputs": [
    {
     "data": {
      "text/plain": [
       "array([[ 0. ,  1. ,  0. ,  0. ,  0. ],\n",
       "       [ 0. ,  0. ,  0. ,  0. ,  1. ],\n",
       "       [ 0. ,  0. ,  0. ,  1. ,  0. ],\n",
       "       [ 0. ,  0. ,  0. ,  0. ,  1. ],\n",
       "       [ 0.5,  0. ,  0.5,  0. ,  0. ]])"
      ]
     },
     "execution_count": 95,
     "metadata": {},
     "output_type": "execute_result"
    }
   ],
   "source": [
    "# 遷移確率行列\n",
    "B = np.array([\n",
    "    [0, 1, 0, 0, 0],\n",
    "    [0, 0, 0, 0, 1],\n",
    "    [0, 0, 0, 1, 0],\n",
    "    [0, 0, 0, 0, 1],\n",
    "    [1/2, 0, 1/2, 0, 0]\n",
    "])\n",
    "B"
   ]
  },
  {
   "cell_type": "code",
   "execution_count": 96,
   "metadata": {},
   "outputs": [
    {
     "name": "stdout",
     "output_type": "stream",
     "text": [
      "P:  [ 0.2  0.2  0.2  0.2  0.2]\n",
      "Not converged\n"
     ]
    },
    {
     "data": {
      "text/plain": [
       "array([ 0.2,  0.2,  0.2,  0.2,  0.2])"
      ]
     },
     "execution_count": 96,
     "metadata": {},
     "output_type": "execute_result"
    }
   ],
   "source": [
    "p = np.asarray([1/5, 1/5, 1/5, 1/5, 1/5])\n",
    "pagerank(B, d=1, eps=1e-6, p=p)"
   ]
  },
  {
   "cell_type": "code",
   "execution_count": 97,
   "metadata": {},
   "outputs": [
    {
     "name": "stdout",
     "output_type": "stream",
     "text": [
      "P:  [ 0.25  0.25  0.25  0.25  0.  ]\n",
      "Not converged\n"
     ]
    },
    {
     "data": {
      "text/plain": [
       "array([ 0.25,  0.25,  0.25,  0.25,  0.  ])"
      ]
     },
     "execution_count": 97,
     "metadata": {},
     "output_type": "execute_result"
    }
   ],
   "source": [
    "p = np.asarray([1/4, 1/4, 1/4, 1/4, 0])\n",
    "pagerank(B, d=1, eps=1e-6, p=p)"
   ]
  },
  {
   "cell_type": "markdown",
   "metadata": {},
   "source": [
    "上記のような初期状態分布では，収束しないことが確かめられた．"
   ]
  },
  {
   "cell_type": "code",
   "execution_count": 87,
   "metadata": {},
   "outputs": [
    {
     "name": "stderr",
     "output_type": "stream",
     "text": [
      "/Users/kataoka/.pyenv/versions/anaconda3-5.0.0/lib/python3.6/site-packages/networkx/drawing/nx_pylab.py:126: MatplotlibDeprecationWarning: pyplot.hold is deprecated.\n",
      "    Future behavior will be consistent with the long-time default:\n",
      "    plot commands add elements without first clearing the\n",
      "    Axes and/or Figure.\n",
      "  b = plt.ishold()\n",
      "/Users/kataoka/.pyenv/versions/anaconda3-5.0.0/lib/python3.6/site-packages/networkx/drawing/nx_pylab.py:138: MatplotlibDeprecationWarning: pyplot.hold is deprecated.\n",
      "    Future behavior will be consistent with the long-time default:\n",
      "    plot commands add elements without first clearing the\n",
      "    Axes and/or Figure.\n",
      "  plt.hold(b)\n",
      "/Users/kataoka/.pyenv/versions/anaconda3-5.0.0/lib/python3.6/site-packages/matplotlib/__init__.py:917: UserWarning: axes.hold is deprecated. Please remove it from your matplotlibrc and/or style files.\n",
      "  warnings.warn(self.msg_depr_set % key)\n",
      "/Users/kataoka/.pyenv/versions/anaconda3-5.0.0/lib/python3.6/site-packages/matplotlib/rcsetup.py:152: UserWarning: axes.hold is deprecated, will be removed in 3.0\n",
      "  warnings.warn(\"axes.hold is deprecated, will be removed in 3.0\")\n"
     ]
    },
    {
     "data": {
      "image/png": "[encoded data removed]",
      "text/plain": [
       "<matplotlib.figure.Figure at 0x11126cd68>"
      ]
     },
     "metadata": {},
     "output_type": "display_data"
    }
   ],
   "source": [
    "G = nx.DiGraph()\n",
    "G.add_nodes_from([1,2,3,4])\n",
    "G.add_edges_from([(1,4),(2,4),(3,4),(4,1),(4,2),(4,3)])\n",
    "pos = nx.spring_layout(G) # ばねモデルに基づくグラフのレイアウト\n",
    "nx.draw(G, pos, with_labels=True, node_size=500, node_color=\"w\")\n",
    "plt.show()"
   ]
  },
  {
   "cell_type": "code",
   "execution_count": 88,
   "metadata": {
    "collapsed": true
   },
   "outputs": [],
   "source": [
    "B = np.array([\n",
    "    [0, 0, 0, 1],\n",
    "    [0, 0, 0, 1],\n",
    "    [0, 0, 0, 1],\n",
    "    [1/3, 1/3, 1/3, 0]\n",
    "])"
   ]
  },
  {
   "cell_type": "code",
   "execution_count": 89,
   "metadata": {},
   "outputs": [
    {
     "name": "stdout",
     "output_type": "stream",
     "text": [
      "P:  [ 0.25  0.25  0.25  0.25]\n",
      "Not converged\n"
     ]
    },
    {
     "data": {
      "text/plain": [
       "array([ 0.08,  0.08,  0.08,  0.75])"
      ]
     },
     "execution_count": 89,
     "metadata": {},
     "output_type": "execute_result"
    }
   ],
   "source": [
    "p = np.asarray([1/4, 1/4, 1/4, 1/4])\n",
    "pagerank(B, d=1, eps=1e-6, p=p)"
   ]
  },
  {
   "cell_type": "code",
   "execution_count": 90,
   "metadata": {},
   "outputs": [
    {
     "name": "stdout",
     "output_type": "stream",
     "text": [
      "P:  [0 0 0 1]\n",
      "Not converged\n"
     ]
    },
    {
     "data": {
      "text/plain": [
       "array([ 0.33,  0.33,  0.33,  0.  ])"
      ]
     },
     "execution_count": 90,
     "metadata": {},
     "output_type": "execute_result"
    }
   ],
   "source": [
    "p = np.asarray([0, 0, 0, 1])\n",
    "pagerank(B, d=1, eps=1e-6, p=p)"
   ]
  },
  {
   "cell_type": "code",
   "execution_count": 92,
   "metadata": {},
   "outputs": [
    {
     "name": "stdout",
     "output_type": "stream",
     "text": [
      "P:  [ 0.5  0.   0.5  0. ]\n",
      "Not converged\n"
     ]
    },
    {
     "data": {
      "text/plain": [
       "array([ 0.,  0.,  0.,  1.])"
      ]
     },
     "execution_count": 92,
     "metadata": {},
     "output_type": "execute_result"
    }
   ],
   "source": [
    "p = np.asarray([1/2, 0, 1/2, 0])\n",
    "pagerank(B, d=1, eps=1e-6, p=p)"
   ]
  },
  {
   "cell_type": "markdown",
   "metadata": {},
   "source": [
    "以上から，既約かつ非周期的でないグラフの場合に，収束しない場合があることが確かめられた．"
   ]
  },
  {
   "cell_type": "markdown",
   "metadata": {},
   "source": [
    "## 任意課題（１）Personalzied PageRank\n",
    "\n",
    "Personalized (Biased) PageRankアルゴリズムを実装し， 必須課題（１）で用いたグラフに対して適用し，結果がどのように異なるか報告せよ．"
   ]
  },
  {
   "cell_type": "markdown",
   "metadata": {},
   "source": [
    "Personalized PageRankアルゴリズムを，上記で定義したpagerankの関数を，確率_(1-d)_でシードページにジャンプするように変更し，定義した．"
   ]
  },
  {
   "cell_type": "code",
   "execution_count": 115,
   "metadata": {
    "collapsed": true
   },
   "outputs": [],
   "source": [
    "def personalized_pagerank(A, d = 0.85, eps = 1e-6, p=np.ones(A.shape[0])/A.shape[0]):\n",
    "    \"\"\"\n",
    "      A: 遷移確率行列\n",
    "      d: damping factor\n",
    "      eps: 誤差（eps以下になれば終了）\n",
    "    \"\"\"\n",
    "    n = A.shape[0]  #ページ数n\n",
    "    e = np.ones(A.shape[0]) #要素が1のn次元ベクトル\n",
    "    #p = e  / n #PageRankベクトルの初期化（初期状態分布）\n",
    "    print(\"P: \", p)\n",
    "    p_init = p\n",
    "    count = 1\n",
    "    while True: # while Trueとしているが，実際には一定回数以上ループを繰り返すとアルゴリズムを終了するような設計がよい\n",
    "        if count >= 1000:\n",
    "            print(\"Not converged\")\n",
    "            break\n",
    "        p_next = d * np.dot(A.T, p) + (1.0 - d) * p_init # PageRankベクトルの更新\n",
    "        if lg.norm(p_next - p, ord=1) <= eps: #差のL1ノルムがeps以下になれば，終了\n",
    "            p = p_next\n",
    "            break\n",
    "        p = p_next\n",
    "        count += 1\n",
    "    return p"
   ]
  },
  {
   "cell_type": "markdown",
   "metadata": {},
   "source": [
    "この関数を，講義資料p12のグラフに適用する．"
   ]
  },
  {
   "cell_type": "code",
   "execution_count": 107,
   "metadata": {},
   "outputs": [
    {
     "name": "stderr",
     "output_type": "stream",
     "text": [
      "/Users/kataoka/.pyenv/versions/anaconda3-5.0.0/lib/python3.6/site-packages/networkx/drawing/nx_pylab.py:126: MatplotlibDeprecationWarning: pyplot.hold is deprecated.\n",
      "    Future behavior will be consistent with the long-time default:\n",
      "    plot commands add elements without first clearing the\n",
      "    Axes and/or Figure.\n",
      "  b = plt.ishold()\n",
      "/Users/kataoka/.pyenv/versions/anaconda3-5.0.0/lib/python3.6/site-packages/networkx/drawing/nx_pylab.py:138: MatplotlibDeprecationWarning: pyplot.hold is deprecated.\n",
      "    Future behavior will be consistent with the long-time default:\n",
      "    plot commands add elements without first clearing the\n",
      "    Axes and/or Figure.\n",
      "  plt.hold(b)\n",
      "/Users/kataoka/.pyenv/versions/anaconda3-5.0.0/lib/python3.6/site-packages/matplotlib/__init__.py:917: UserWarning: axes.hold is deprecated. Please remove it from your matplotlibrc and/or style files.\n",
      "  warnings.warn(self.msg_depr_set % key)\n",
      "/Users/kataoka/.pyenv/versions/anaconda3-5.0.0/lib/python3.6/site-packages/matplotlib/rcsetup.py:152: UserWarning: axes.hold is deprecated, will be removed in 3.0\n",
      "  warnings.warn(\"axes.hold is deprecated, will be removed in 3.0\")\n"
     ]
    },
    {
     "data": {
      "image/png": "[encoded data removed]",
      "text/plain": [
       "<matplotlib.figure.Figure at 0x111748668>"
      ]
     },
     "metadata": {},
     "output_type": "display_data"
    }
   ],
   "source": [
    "# 有向グラフの描画\n",
    "G = nx.DiGraph()\n",
    "G.add_nodes_from([1,2,3,4,5,6])\n",
    "G.add_edges_from([(1,2),(1,3),(2,1),(2,3),(3,2),(4,3),(4,5),(4,6),(6,4),(6,5)])\n",
    "pos = nx.spring_layout(G) # ばねモデルに基づくグラフのレイアウト\n",
    "nx.draw(G, pos, with_labels=True, node_size=500, node_color=\"w\")\n",
    "plt.show()"
   ]
  },
  {
   "cell_type": "code",
   "execution_count": 116,
   "metadata": {},
   "outputs": [
    {
     "data": {
      "text/plain": [
       "array([[ 0.  ,  0.5 ,  0.5 ,  0.  ,  0.  ,  0.  ],\n",
       "       [ 0.5 ,  0.  ,  0.5 ,  0.  ,  0.  ,  0.  ],\n",
       "       [ 0.  ,  1.  ,  0.  ,  0.  ,  0.  ,  0.  ],\n",
       "       [ 0.  ,  0.  ,  0.33,  0.  ,  0.  ,  0.  ],\n",
       "       [ 0.17,  0.17,  0.17,  0.17,  0.17,  0.17],\n",
       "       [ 0.  ,  0.  ,  0.  ,  0.5 ,  0.5 ,  0.  ]])"
      ]
     },
     "execution_count": 116,
     "metadata": {},
     "output_type": "execute_result"
    }
   ],
   "source": [
    "A = np.array([\n",
    "    [0, 1/2, 1/2, 0, 0, 0],\n",
    "    [1/2, 0, 1/2, 0, 0, 0],\n",
    "    [0, 1, 0, 0, 0, 0],\n",
    "    [0, 0, 1/3, 0, 0, 0],\n",
    "    [1/6, 1/6, 1/6, 1/6, 1/6, 1/6],\n",
    "    [0, 0, 0, 1/2, 1/2, 0]\n",
    "])\n",
    "A"
   ]
  },
  {
   "cell_type": "code",
   "execution_count": 117,
   "metadata": {},
   "outputs": [
    {
     "name": "stdout",
     "output_type": "stream",
     "text": [
      "P:  [ 0.17  0.17  0.17  0.17  0.17  0.17]\n",
      "P:  [ 0.17  0.17  0.17  0.17  0.17  0.17]\n",
      "[ 0.16  0.31  0.24  0.04  0.04  0.03]\n",
      "[ 0.16  0.31  0.24  0.04  0.04  0.03]\n"
     ]
    }
   ],
   "source": [
    "p = pagerank(A, d = 0.85, eps=1e-6)\n",
    "pp = personalized_pagerank(A, d = 0.85, eps=1e-6)\n",
    "print(p)\n",
    "print(pp)"
   ]
  },
  {
   "cell_type": "code",
   "execution_count": 120,
   "metadata": {},
   "outputs": [
    {
     "name": "stdout",
     "output_type": "stream",
     "text": [
      "P:  [ 0.5  0.5  0.   0.   0.   0. ]\n",
      "P:  [ 0.5  0.5  0.   0.   0.   0. ]\n",
      "[ 0.16  0.31  0.24  0.04  0.04  0.03]\n",
      "[ 0.26  0.44  0.3   0.    0.    0.  ]\n"
     ]
    }
   ],
   "source": [
    "a = np.asarray([1/2, 1/2, 0, 0, 0, 0])\n",
    "p = pagerank(A, d = 0.85, eps=1e-6, p=a/np.sum(a))\n",
    "pp = personalized_pagerank(A, d = 0.85, eps=1e-6, p=a/np.sum(a))\n",
    "print(p)\n",
    "print(pp)"
   ]
  },
  {
   "cell_type": "code",
   "execution_count": 121,
   "metadata": {},
   "outputs": [
    {
     "name": "stdout",
     "output_type": "stream",
     "text": [
      "P:  [ 1.  0.  0.  0.  0.  0.]\n",
      "P:  [ 1.  0.  0.  0.  0.  0.]\n",
      "[ 0.16  0.31  0.24  0.04  0.04  0.03]\n",
      "[ 0.31  0.39  0.3   0.    0.    0.  ]\n"
     ]
    }
   ],
   "source": [
    "a = np.asarray([1, 0, 0, 0, 0, 0])\n",
    "p = pagerank(A, d = 0.85, eps=1e-6, p=a/np.sum(a))\n",
    "pp = personalized_pagerank(A, d = 0.85, eps=1e-6, p=a/np.sum(a))\n",
    "print(p)\n",
    "print(pp)"
   ]
  },
  {
   "cell_type": "markdown",
   "metadata": {},
   "source": [
    "上記のように，初期状態分布が一様の場合，personalized_pagerankを適用しても，\n",
    "通常のPageRankと変わらないが，偏りのある初期分布の場合に，異なる結果が得られた．\n",
    "<br>例えば，[1, 0, 0, 0, 0, 0]であれば，ノード1に対する他のノードの重要度が計算できる．\n",
    "この場合，リンクで直接接続されたノード2，ノード3がノード1にとって重要なノードであると言える．"
   ]
  },
  {
   "cell_type": "markdown",
   "metadata": {},
   "source": [
    "## 任意課題（２） 実データに対するPageRank計算\n",
    "\n",
    "ノード数が1万件を超えるような実グラフデータを各自で用意し，PageRankを求め結果を簡潔に報告せよ．\n",
    " - グラフの可視化を行うかどうかは自由\n",
    " - 極めて大規模なグラフに対してPageRankを求める場合は，NetworkXのpagerank_scipy関数等の使用を検討するとよい\n",
    " \n",
    "## 任意課題（３） その他リンク解析アルゴリズムの実装\n",
    "\n",
    "HITS，TextRank， あるいはVisualRankアルゴリズムを実装せよ．適宜データを用意し，実装したアルゴリズムをそのデータに適用し結果を報告せよ．"
   ]
  },
  {
   "cell_type": "code",
   "execution_count": null,
   "metadata": {
    "collapsed": true
   },
   "outputs": [],
   "source": []
  }
 ],
 "metadata": {
  "kernelspec": {
   "display_name": "Python 3",
   "language": "python",
   "name": "python3"
  },
  "language_info": {
   "codemirror_mode": {
    "name": "ipython",
    "version": 3
   },
   "file_extension": ".py",
   "mimetype": "text/x-python",
   "name": "python",
   "nbconvert_exporter": "python",
   "pygments_lexer": "ipython3",
   "version": "3.6.2"
  }
 },
 "nbformat": 4,
 "nbformat_minor": 2
}
